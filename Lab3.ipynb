{
 "cells": [
  {
   "cell_type": "markdown",
   "metadata": {},
   "source": [
    "Экономика городов. DBScan кластеризация."
   ]
  },
  {
   "cell_type": "markdown",
   "metadata": {},
   "source": [
    "##### Шарифов Фаррух Рустамович N33472"
   ]
  },
  {
   "cell_type": "code",
   "execution_count": 19,
   "metadata": {},
   "outputs": [],
   "source": [
    "import numpy as np\n",
    "import pandas as pd\n",
    "\n",
    "import matplotlib\n",
    "import matplotlib.pyplot as plt\n",
    "matplotlib.style.use('ggplot')\n",
    "%matplotlib inline\n",
    "\n",
    "import os\n",
    "\n",
    "from sklearn.cluster import DBSCAN\n",
    "from scipy.cluster.hierarchy import dendrogram, linkage, fcluster"
   ]
  },
  {
   "cell_type": "code",
   "execution_count": 20,
   "metadata": {},
   "outputs": [],
   "source": [
    "os.chdir(\"C:/Users/Farrukh99/Desktop/subjects/3/Data processing/lecture 3/Lab1\")"
   ]
  },
  {
   "cell_type": "code",
   "execution_count": 21,
   "metadata": {},
   "outputs": [],
   "source": [
    "df = pd.read_csv(\"Econom_Cities_data.csv\", sep=';', decimal=',', index_col='City')"
   ]
  },
  {
   "cell_type": "code",
   "execution_count": 22,
   "metadata": {},
   "outputs": [
    {
     "name": "stdout",
     "output_type": "stream",
     "text": [
      "                Work  Price  Salary\n",
      "City                               \n",
      "Amsterdam       1714   65.6    49.0\n",
      "Athens          1792   53.8    30.4\n",
      "Bogota          2152   37.9    11.5\n",
      "Bombay          2052   30.3     5.3\n",
      "Brussels        1708   73.8    50.5\n",
      "Buenos_Aires    1971   56.1    12.5\n",
      "Cairo          -9999   37.1 -9999.0\n",
      "Caracas         2041   61.0    10.9\n",
      "Chicago         1924   73.9    61.9\n",
      "Copenhagen      1717   91.3    62.9\n",
      "Dublin          1759   76.0    41.4\n",
      "Dusseldorf      1693   78.5    60.2\n",
      "Frankfurt       1650   74.5    60.4\n",
      "Geneva          1880   95.9    90.3\n",
      "Helsinki        1667  113.6    66.6\n",
      "Hong_Kong       2375   63.8    27.8\n",
      "Houston         1978   71.9    46.3\n",
      "Jakarta        -9999   43.6 -9999.0\n",
      "Johannesburg    1945   51.1    24.0\n",
      "Kuala_Lumpur    2167   43.5     9.9\n",
      "Lagos           1786   45.2     2.7\n",
      "Lisbon          1742   56.2    18.8\n",
      "London          1737   84.2    46.2\n",
      "Los_Angeles     2068   79.8    65.2\n",
      "Luxembourg      1768   71.1    71.1\n",
      "Madrid          1710   93.8    50.0\n",
      "Manila          2268   40.0     4.0\n",
      "Mexico_City     1944   49.8     5.7\n",
      "Milan           1773   82.0    53.3\n",
      "Montreal        1827   72.7    56.3\n",
      "Nairobi         1958   45.0     5.8\n",
      "New_York        1942   83.3    65.8\n",
      "Nicosia         1825   47.9    28.3\n",
      "Oslo            1583  115.5    63.7\n",
      "Panama          2078   49.2    13.8\n",
      "Paris           1744   81.6    45.9\n",
      "Rio_de_Janeiro  1749   46.3    10.5\n",
      "San_Paulo       1856   48.9    11.1\n",
      "Seoul           1842   58.3    32.7\n",
      "Singpore        2042   64.4    16.1\n",
      "Stockholm       1805  111.3    39.2\n",
      "Sydney          1668   70.8    52.1\n",
      "Taipei          2145   84.3    34.5\n",
      "Tel_Aviv        2015   67.3    27.0\n",
      "Tokyo           1880  115.0    68.0\n",
      "Toronto         1888   70.2    58.2\n",
      "Vienna          1780   78.0    51.3\n",
      "Zurich          1868  100.0   100.0\n"
     ]
    }
   ],
   "source": [
    "print(df)"
   ]
  },
  {
   "cell_type": "markdown",
   "metadata": {},
   "source": [
    "Для замены ошибочных значений, таких как work и solary в городах jakarta и ciaro, будем заполнять средным значением по выборке!"
   ]
  },
  {
   "cell_type": "code",
   "execution_count": 23,
   "metadata": {},
   "outputs": [
    {
     "data": {
      "text/html": [
       "<div>\n",
       "<style scoped>\n",
       "    .dataframe tbody tr th:only-of-type {\n",
       "        vertical-align: middle;\n",
       "    }\n",
       "\n",
       "    .dataframe tbody tr th {\n",
       "        vertical-align: top;\n",
       "    }\n",
       "\n",
       "    .dataframe thead th {\n",
       "        text-align: right;\n",
       "    }\n",
       "</style>\n",
       "<table border=\"1\" class=\"dataframe\">\n",
       "  <thead>\n",
       "    <tr style=\"text-align: right;\">\n",
       "      <th></th>\n",
       "      <th>Work</th>\n",
       "      <th>Price</th>\n",
       "      <th>Salary</th>\n",
       "    </tr>\n",
       "    <tr>\n",
       "      <th>City</th>\n",
       "      <th></th>\n",
       "      <th></th>\n",
       "      <th></th>\n",
       "    </tr>\n",
       "  </thead>\n",
       "  <tbody>\n",
       "    <tr>\n",
       "      <th>Amsterdam</th>\n",
       "      <td>1714.0</td>\n",
       "      <td>65.6</td>\n",
       "      <td>49.0</td>\n",
       "    </tr>\n",
       "    <tr>\n",
       "      <th>Athens</th>\n",
       "      <td>1792.0</td>\n",
       "      <td>53.8</td>\n",
       "      <td>30.4</td>\n",
       "    </tr>\n",
       "    <tr>\n",
       "      <th>Bogota</th>\n",
       "      <td>2152.0</td>\n",
       "      <td>37.9</td>\n",
       "      <td>11.5</td>\n",
       "    </tr>\n",
       "    <tr>\n",
       "      <th>Bombay</th>\n",
       "      <td>2052.0</td>\n",
       "      <td>30.3</td>\n",
       "      <td>5.3</td>\n",
       "    </tr>\n",
       "    <tr>\n",
       "      <th>Brussels</th>\n",
       "      <td>1708.0</td>\n",
       "      <td>73.8</td>\n",
       "      <td>50.5</td>\n",
       "    </tr>\n",
       "    <tr>\n",
       "      <th>Buenos_Aires</th>\n",
       "      <td>1971.0</td>\n",
       "      <td>56.1</td>\n",
       "      <td>12.5</td>\n",
       "    </tr>\n",
       "    <tr>\n",
       "      <th>Cairo</th>\n",
       "      <td>1879.0</td>\n",
       "      <td>37.1</td>\n",
       "      <td>39.0</td>\n",
       "    </tr>\n",
       "    <tr>\n",
       "      <th>Caracas</th>\n",
       "      <td>2041.0</td>\n",
       "      <td>61.0</td>\n",
       "      <td>10.9</td>\n",
       "    </tr>\n",
       "    <tr>\n",
       "      <th>Chicago</th>\n",
       "      <td>1924.0</td>\n",
       "      <td>73.9</td>\n",
       "      <td>61.9</td>\n",
       "    </tr>\n",
       "    <tr>\n",
       "      <th>Copenhagen</th>\n",
       "      <td>1717.0</td>\n",
       "      <td>91.3</td>\n",
       "      <td>62.9</td>\n",
       "    </tr>\n",
       "    <tr>\n",
       "      <th>Dublin</th>\n",
       "      <td>1759.0</td>\n",
       "      <td>76.0</td>\n",
       "      <td>41.4</td>\n",
       "    </tr>\n",
       "    <tr>\n",
       "      <th>Dusseldorf</th>\n",
       "      <td>1693.0</td>\n",
       "      <td>78.5</td>\n",
       "      <td>60.2</td>\n",
       "    </tr>\n",
       "    <tr>\n",
       "      <th>Frankfurt</th>\n",
       "      <td>1650.0</td>\n",
       "      <td>74.5</td>\n",
       "      <td>60.4</td>\n",
       "    </tr>\n",
       "    <tr>\n",
       "      <th>Geneva</th>\n",
       "      <td>1880.0</td>\n",
       "      <td>95.9</td>\n",
       "      <td>90.3</td>\n",
       "    </tr>\n",
       "    <tr>\n",
       "      <th>Helsinki</th>\n",
       "      <td>1667.0</td>\n",
       "      <td>113.6</td>\n",
       "      <td>66.6</td>\n",
       "    </tr>\n",
       "    <tr>\n",
       "      <th>Hong_Kong</th>\n",
       "      <td>2375.0</td>\n",
       "      <td>63.8</td>\n",
       "      <td>27.8</td>\n",
       "    </tr>\n",
       "    <tr>\n",
       "      <th>Houston</th>\n",
       "      <td>1978.0</td>\n",
       "      <td>71.9</td>\n",
       "      <td>46.3</td>\n",
       "    </tr>\n",
       "    <tr>\n",
       "      <th>Jakarta</th>\n",
       "      <td>1879.0</td>\n",
       "      <td>43.6</td>\n",
       "      <td>39.0</td>\n",
       "    </tr>\n",
       "    <tr>\n",
       "      <th>Johannesburg</th>\n",
       "      <td>1945.0</td>\n",
       "      <td>51.1</td>\n",
       "      <td>24.0</td>\n",
       "    </tr>\n",
       "    <tr>\n",
       "      <th>Kuala_Lumpur</th>\n",
       "      <td>2167.0</td>\n",
       "      <td>43.5</td>\n",
       "      <td>9.9</td>\n",
       "    </tr>\n",
       "    <tr>\n",
       "      <th>Lagos</th>\n",
       "      <td>1786.0</td>\n",
       "      <td>45.2</td>\n",
       "      <td>2.7</td>\n",
       "    </tr>\n",
       "    <tr>\n",
       "      <th>Lisbon</th>\n",
       "      <td>1742.0</td>\n",
       "      <td>56.2</td>\n",
       "      <td>18.8</td>\n",
       "    </tr>\n",
       "    <tr>\n",
       "      <th>London</th>\n",
       "      <td>1737.0</td>\n",
       "      <td>84.2</td>\n",
       "      <td>46.2</td>\n",
       "    </tr>\n",
       "    <tr>\n",
       "      <th>Los_Angeles</th>\n",
       "      <td>2068.0</td>\n",
       "      <td>79.8</td>\n",
       "      <td>65.2</td>\n",
       "    </tr>\n",
       "    <tr>\n",
       "      <th>Luxembourg</th>\n",
       "      <td>1768.0</td>\n",
       "      <td>71.1</td>\n",
       "      <td>71.1</td>\n",
       "    </tr>\n",
       "    <tr>\n",
       "      <th>Madrid</th>\n",
       "      <td>1710.0</td>\n",
       "      <td>93.8</td>\n",
       "      <td>50.0</td>\n",
       "    </tr>\n",
       "    <tr>\n",
       "      <th>Manila</th>\n",
       "      <td>2268.0</td>\n",
       "      <td>40.0</td>\n",
       "      <td>4.0</td>\n",
       "    </tr>\n",
       "    <tr>\n",
       "      <th>Mexico_City</th>\n",
       "      <td>1944.0</td>\n",
       "      <td>49.8</td>\n",
       "      <td>5.7</td>\n",
       "    </tr>\n",
       "    <tr>\n",
       "      <th>Milan</th>\n",
       "      <td>1773.0</td>\n",
       "      <td>82.0</td>\n",
       "      <td>53.3</td>\n",
       "    </tr>\n",
       "    <tr>\n",
       "      <th>Montreal</th>\n",
       "      <td>1827.0</td>\n",
       "      <td>72.7</td>\n",
       "      <td>56.3</td>\n",
       "    </tr>\n",
       "    <tr>\n",
       "      <th>Nairobi</th>\n",
       "      <td>1958.0</td>\n",
       "      <td>45.0</td>\n",
       "      <td>5.8</td>\n",
       "    </tr>\n",
       "    <tr>\n",
       "      <th>New_York</th>\n",
       "      <td>1942.0</td>\n",
       "      <td>83.3</td>\n",
       "      <td>65.8</td>\n",
       "    </tr>\n",
       "    <tr>\n",
       "      <th>Nicosia</th>\n",
       "      <td>1825.0</td>\n",
       "      <td>47.9</td>\n",
       "      <td>28.3</td>\n",
       "    </tr>\n",
       "    <tr>\n",
       "      <th>Oslo</th>\n",
       "      <td>1583.0</td>\n",
       "      <td>115.5</td>\n",
       "      <td>63.7</td>\n",
       "    </tr>\n",
       "    <tr>\n",
       "      <th>Panama</th>\n",
       "      <td>2078.0</td>\n",
       "      <td>49.2</td>\n",
       "      <td>13.8</td>\n",
       "    </tr>\n",
       "    <tr>\n",
       "      <th>Paris</th>\n",
       "      <td>1744.0</td>\n",
       "      <td>81.6</td>\n",
       "      <td>45.9</td>\n",
       "    </tr>\n",
       "    <tr>\n",
       "      <th>Rio_de_Janeiro</th>\n",
       "      <td>1749.0</td>\n",
       "      <td>46.3</td>\n",
       "      <td>10.5</td>\n",
       "    </tr>\n",
       "    <tr>\n",
       "      <th>San_Paulo</th>\n",
       "      <td>1856.0</td>\n",
       "      <td>48.9</td>\n",
       "      <td>11.1</td>\n",
       "    </tr>\n",
       "    <tr>\n",
       "      <th>Seoul</th>\n",
       "      <td>1842.0</td>\n",
       "      <td>58.3</td>\n",
       "      <td>32.7</td>\n",
       "    </tr>\n",
       "    <tr>\n",
       "      <th>Singpore</th>\n",
       "      <td>2042.0</td>\n",
       "      <td>64.4</td>\n",
       "      <td>16.1</td>\n",
       "    </tr>\n",
       "    <tr>\n",
       "      <th>Stockholm</th>\n",
       "      <td>1805.0</td>\n",
       "      <td>111.3</td>\n",
       "      <td>39.2</td>\n",
       "    </tr>\n",
       "    <tr>\n",
       "      <th>Sydney</th>\n",
       "      <td>1668.0</td>\n",
       "      <td>70.8</td>\n",
       "      <td>52.1</td>\n",
       "    </tr>\n",
       "    <tr>\n",
       "      <th>Taipei</th>\n",
       "      <td>2145.0</td>\n",
       "      <td>84.3</td>\n",
       "      <td>34.5</td>\n",
       "    </tr>\n",
       "    <tr>\n",
       "      <th>Tel_Aviv</th>\n",
       "      <td>2015.0</td>\n",
       "      <td>67.3</td>\n",
       "      <td>27.0</td>\n",
       "    </tr>\n",
       "    <tr>\n",
       "      <th>Tokyo</th>\n",
       "      <td>1880.0</td>\n",
       "      <td>115.0</td>\n",
       "      <td>68.0</td>\n",
       "    </tr>\n",
       "    <tr>\n",
       "      <th>Toronto</th>\n",
       "      <td>1888.0</td>\n",
       "      <td>70.2</td>\n",
       "      <td>58.2</td>\n",
       "    </tr>\n",
       "    <tr>\n",
       "      <th>Vienna</th>\n",
       "      <td>1780.0</td>\n",
       "      <td>78.0</td>\n",
       "      <td>51.3</td>\n",
       "    </tr>\n",
       "    <tr>\n",
       "      <th>Zurich</th>\n",
       "      <td>1868.0</td>\n",
       "      <td>100.0</td>\n",
       "      <td>100.0</td>\n",
       "    </tr>\n",
       "  </tbody>\n",
       "</table>\n",
       "</div>"
      ],
      "text/plain": [
       "                  Work  Price  Salary\n",
       "City                                 \n",
       "Amsterdam       1714.0   65.6    49.0\n",
       "Athens          1792.0   53.8    30.4\n",
       "Bogota          2152.0   37.9    11.5\n",
       "Bombay          2052.0   30.3     5.3\n",
       "Brussels        1708.0   73.8    50.5\n",
       "Buenos_Aires    1971.0   56.1    12.5\n",
       "Cairo           1879.0   37.1    39.0\n",
       "Caracas         2041.0   61.0    10.9\n",
       "Chicago         1924.0   73.9    61.9\n",
       "Copenhagen      1717.0   91.3    62.9\n",
       "Dublin          1759.0   76.0    41.4\n",
       "Dusseldorf      1693.0   78.5    60.2\n",
       "Frankfurt       1650.0   74.5    60.4\n",
       "Geneva          1880.0   95.9    90.3\n",
       "Helsinki        1667.0  113.6    66.6\n",
       "Hong_Kong       2375.0   63.8    27.8\n",
       "Houston         1978.0   71.9    46.3\n",
       "Jakarta         1879.0   43.6    39.0\n",
       "Johannesburg    1945.0   51.1    24.0\n",
       "Kuala_Lumpur    2167.0   43.5     9.9\n",
       "Lagos           1786.0   45.2     2.7\n",
       "Lisbon          1742.0   56.2    18.8\n",
       "London          1737.0   84.2    46.2\n",
       "Los_Angeles     2068.0   79.8    65.2\n",
       "Luxembourg      1768.0   71.1    71.1\n",
       "Madrid          1710.0   93.8    50.0\n",
       "Manila          2268.0   40.0     4.0\n",
       "Mexico_City     1944.0   49.8     5.7\n",
       "Milan           1773.0   82.0    53.3\n",
       "Montreal        1827.0   72.7    56.3\n",
       "Nairobi         1958.0   45.0     5.8\n",
       "New_York        1942.0   83.3    65.8\n",
       "Nicosia         1825.0   47.9    28.3\n",
       "Oslo            1583.0  115.5    63.7\n",
       "Panama          2078.0   49.2    13.8\n",
       "Paris           1744.0   81.6    45.9\n",
       "Rio_de_Janeiro  1749.0   46.3    10.5\n",
       "San_Paulo       1856.0   48.9    11.1\n",
       "Seoul           1842.0   58.3    32.7\n",
       "Singpore        2042.0   64.4    16.1\n",
       "Stockholm       1805.0  111.3    39.2\n",
       "Sydney          1668.0   70.8    52.1\n",
       "Taipei          2145.0   84.3    34.5\n",
       "Tel_Aviv        2015.0   67.3    27.0\n",
       "Tokyo           1880.0  115.0    68.0\n",
       "Toronto         1888.0   70.2    58.2\n",
       "Vienna          1780.0   78.0    51.3\n",
       "Zurich          1868.0  100.0   100.0"
      ]
     },
     "execution_count": 23,
     "metadata": {},
     "output_type": "execute_result"
    }
   ],
   "source": [
    "work = df['Work'].copy()\n",
    "work['Cairo'] = None\n",
    "work['Jakarta'] = None\n",
    "\n",
    "mean = int(work.mean())\n",
    "df['Work'] = work.fillna(mean)\n",
    "\n",
    "salary = df['Salary'].copy()\n",
    "salary['Cairo'] = None\n",
    "salary['Jakarta'] = None\n",
    "\n",
    "mean_s = int(salary.mean())\n",
    "df['Salary'] = salary.fillna(mean_s)\n",
    "\n",
    "df"
   ]
  },
  {
   "cell_type": "markdown",
   "metadata": {},
   "source": [
    "Стандартизация данных.\n",
    "\n",
    "Так как они отличаются по смыслу и следовательно их значения различны на порядок."
   ]
  },
  {
   "cell_type": "code",
   "execution_count": 24,
   "metadata": {},
   "outputs": [
    {
     "name": "stdout",
     "output_type": "stream",
     "text": [
      "                    Work     Price    Salary\n",
      "City                                        \n",
      "Amsterdam      -0.982634 -0.151250  0.395343\n",
      "Athens         -0.520566 -0.698647 -0.380569\n",
      "Bogota          1.612052 -1.436242 -1.168996\n",
      "Bombay          1.019658 -1.788804 -1.427633\n",
      "Brussels       -1.018177  0.229145  0.457917\n",
      "Buenos_Aires    0.539819 -0.591951 -1.127280\n",
      "Cairo          -0.005183 -1.473354 -0.021814\n",
      "Caracas         0.954495 -0.364642 -1.194025\n",
      "Chicago         0.261394  0.233784  0.933476\n",
      "Copenhagen     -0.964862  1.040964  0.975191\n",
      "Dublin         -0.716056  0.331203  0.078304\n",
      "Dusseldorf     -1.107036  0.447177  0.862559\n",
      "Frankfurt      -1.361766  0.261618  0.870902\n",
      "Geneva          0.000740  1.254356  2.118201\n",
      "Helsinki       -1.261059  2.075453  1.129539\n",
      "Hong_Kong       2.933091 -0.234751 -0.489030\n",
      "Houston         0.581287  0.141005  0.282711\n",
      "Jakarta        -0.005183 -1.171821 -0.021814\n",
      "Johannesburg    0.385797 -0.823899 -0.647549\n",
      "Kuala_Lumpur    1.700911 -1.176460 -1.235741\n",
      "Lagos          -0.556110 -1.097598 -1.536094\n",
      "Lisbon         -0.816763 -0.587312 -0.864471\n",
      "London         -0.846383  0.711598  0.278539\n",
      "Los_Angeles     1.114441  0.507483  1.071137\n",
      "Luxembourg     -0.662741  0.103893  1.317260\n",
      "Madrid         -1.006329  1.156938  0.437059\n",
      "Manila          2.299230 -1.338824 -1.481863\n",
      "Mexico_City     0.379873 -0.884206 -1.410947\n",
      "Milan          -0.633121  0.609540  0.574721\n",
      "Montreal       -0.313228  0.178117  0.699868\n",
      "Nairobi         0.462808 -1.106876 -1.406775\n",
      "New_York        0.368025  0.669847  1.096167\n",
      "Nicosia        -0.325076 -0.972346 -0.468172\n",
      "Oslo           -1.758670  2.163593  1.008564\n",
      "Panama          1.173681 -0.912039 -1.073049\n",
      "Paris          -0.804915  0.590985  0.266024\n",
      "Rio_de_Janeiro -0.775296 -1.046569 -1.210711\n",
      "San_Paulo      -0.141434 -0.925956 -1.185682\n",
      "Seoul          -0.224369 -0.489894 -0.284623\n",
      "Singpore        0.960419 -0.206917 -0.977103\n",
      "Stockholm      -0.443555  1.968757 -0.013471\n",
      "Sydney         -1.255135  0.089977  0.524662\n",
      "Taipei          1.570585  0.716237 -0.209534\n",
      "Tel_Aviv        0.800472 -0.072387 -0.522402\n",
      "Tokyo           0.000740  2.140398  1.187941\n",
      "Toronto         0.048132  0.062143  0.779128\n",
      "Vienna         -0.591654  0.423982  0.491289\n",
      "Zurich         -0.070347  1.444554  2.522844\n"
     ]
    }
   ],
   "source": [
    "from sklearn import preprocessing\n",
    "\n",
    "norm = preprocessing.StandardScaler()\n",
    "X = norm.fit_transform(df)\n",
    "X = pd.DataFrame(X, index=df.index, columns=df.columns)\n",
    "\n",
    "print(X)"
   ]
  },
  {
   "cell_type": "markdown",
   "metadata": {},
   "source": [
    "Попробуем обучить модель используя значения по умолчанию"
   ]
  },
  {
   "cell_type": "code",
   "execution_count": 25,
   "metadata": {},
   "outputs": [
    {
     "data": {
      "text/plain": [
       "array([ 0, -1, -1, -1,  0, -1, -1, -1, -1, -1,  0,  0, -1, -1, -1, -1, -1,\n",
       "       -1, -1, -1, -1, -1,  0, -1, -1,  0, -1, -1,  0,  0, -1, -1, -1, -1,\n",
       "       -1,  0, -1, -1, -1, -1, -1,  0, -1, -1, -1, -1,  0, -1],\n",
       "      dtype=int64)"
      ]
     },
     "execution_count": 25,
     "metadata": {},
     "output_type": "execute_result"
    }
   ],
   "source": [
    "dbscan = DBSCAN(eps=0.5, metric='euclidean', min_samples=5)\n",
    "dbscan.fit(X)\n",
    "dbscan.labels_"
   ]
  },
  {
   "cell_type": "markdown",
   "metadata": {},
   "source": [
    "Создадим таблицу частот"
   ]
  },
  {
   "cell_type": "code",
   "execution_count": 26,
   "metadata": {},
   "outputs": [
    {
     "name": "stdout",
     "output_type": "stream",
     "text": [
      "[[-1 37]\n",
      " [ 0 11]]\n"
     ]
    }
   ],
   "source": [
    "unique, counts = np.unique(dbscan.labels_, return_counts=True)\n",
    "print(np.asarray((unique, counts)).T)"
   ]
  },
  {
   "cell_type": "markdown",
   "metadata": {},
   "source": [
    "37 выбросов и 1 кластер из 11 элементов нам не интересны"
   ]
  },
  {
   "cell_type": "code",
   "execution_count": 27,
   "metadata": {},
   "outputs": [
    {
     "data": {
      "text/plain": [
       "DBSCAN(eps=5)"
      ]
     },
     "execution_count": 27,
     "metadata": {},
     "output_type": "execute_result"
    }
   ],
   "source": [
    "dbscan = DBSCAN(eps=5, metric='euclidean', min_samples=5)\n",
    "\n",
    "dbscan.fit(X)"
   ]
  },
  {
   "cell_type": "code",
   "execution_count": 28,
   "metadata": {},
   "outputs": [
    {
     "name": "stdout",
     "output_type": "stream",
     "text": [
      "[[ 0 48]]\n"
     ]
    }
   ],
   "source": [
    "#  Таблица частот \n",
    "\n",
    "unique, counts = np.unique(dbscan.labels_, return_counts=True)\n",
    "print(np.asarray((unique, counts)).T)"
   ]
  },
  {
   "cell_type": "markdown",
   "metadata": {},
   "source": [
    "Уменьшаем eps и min_samples, так как все объекты оказались в одном кластере."
   ]
  },
  {
   "cell_type": "code",
   "execution_count": 29,
   "metadata": {},
   "outputs": [
    {
     "name": "stdout",
     "output_type": "stream",
     "text": [
      "[[-1  9]\n",
      " [ 0 18]\n",
      " [ 1 21]]\n"
     ]
    }
   ],
   "source": [
    "dbscan = DBSCAN(eps=0.8, metric='euclidean', min_samples=5)\n",
    "\n",
    "dbscan.fit(X)\n",
    "\n",
    "unique, counts = np.unique(dbscan.labels_, return_counts=True)\n",
    "print(np.asarray((unique, counts)).T)"
   ]
  },
  {
   "cell_type": "code",
   "execution_count": 30,
   "metadata": {},
   "outputs": [
    {
     "name": "stdout",
     "output_type": "stream",
     "text": [
      "[[-1  8]\n",
      " [ 0 19]\n",
      " [ 1 21]]\n"
     ]
    }
   ],
   "source": [
    "dbscan = DBSCAN(eps=0.8, metric='euclidean', min_samples=2.1)\n",
    "\n",
    "dbscan.fit(X)\n",
    "\n",
    "unique, counts = np.unique(dbscan.labels_, return_counts=True)\n",
    "print(np.asarray((unique, counts)).T)"
   ]
  },
  {
   "cell_type": "markdown",
   "metadata": {},
   "source": [
    "два раза попробовали, построить модель лучше, не получилось."
   ]
  },
  {
   "cell_type": "markdown",
   "metadata": {},
   "source": [
    "Сравним с результатами иерархического кластерного анализа этих же данных"
   ]
  },
  {
   "cell_type": "code",
   "execution_count": 31,
   "metadata": {},
   "outputs": [
    {
     "data": {
      "text/html": [
       "<div>\n",
       "<style scoped>\n",
       "    .dataframe tbody tr th:only-of-type {\n",
       "        vertical-align: middle;\n",
       "    }\n",
       "\n",
       "    .dataframe tbody tr th {\n",
       "        vertical-align: top;\n",
       "    }\n",
       "\n",
       "    .dataframe thead th {\n",
       "        text-align: right;\n",
       "    }\n",
       "</style>\n",
       "<table border=\"1\" class=\"dataframe\">\n",
       "  <thead>\n",
       "    <tr style=\"text-align: right;\">\n",
       "      <th></th>\n",
       "      <th>Work</th>\n",
       "      <th>Price</th>\n",
       "      <th>Salary</th>\n",
       "      <th>cluster</th>\n",
       "      <th>dbscan</th>\n",
       "    </tr>\n",
       "    <tr>\n",
       "      <th>City</th>\n",
       "      <th></th>\n",
       "      <th></th>\n",
       "      <th></th>\n",
       "      <th></th>\n",
       "      <th></th>\n",
       "    </tr>\n",
       "  </thead>\n",
       "  <tbody>\n",
       "    <tr>\n",
       "      <th>Amsterdam</th>\n",
       "      <td>1714.0</td>\n",
       "      <td>65.6</td>\n",
       "      <td>49.0</td>\n",
       "      <td>2</td>\n",
       "      <td>0</td>\n",
       "    </tr>\n",
       "    <tr>\n",
       "      <th>Athens</th>\n",
       "      <td>1792.0</td>\n",
       "      <td>53.8</td>\n",
       "      <td>30.4</td>\n",
       "      <td>2</td>\n",
       "      <td>1</td>\n",
       "    </tr>\n",
       "    <tr>\n",
       "      <th>Bogota</th>\n",
       "      <td>2152.0</td>\n",
       "      <td>37.9</td>\n",
       "      <td>11.5</td>\n",
       "      <td>1</td>\n",
       "      <td>1</td>\n",
       "    </tr>\n",
       "    <tr>\n",
       "      <th>Bombay</th>\n",
       "      <td>2052.0</td>\n",
       "      <td>30.3</td>\n",
       "      <td>5.3</td>\n",
       "      <td>1</td>\n",
       "      <td>1</td>\n",
       "    </tr>\n",
       "    <tr>\n",
       "      <th>Brussels</th>\n",
       "      <td>1708.0</td>\n",
       "      <td>73.8</td>\n",
       "      <td>50.5</td>\n",
       "      <td>2</td>\n",
       "      <td>0</td>\n",
       "    </tr>\n",
       "  </tbody>\n",
       "</table>\n",
       "</div>"
      ],
      "text/plain": [
       "             Work  Price  Salary  cluster  dbscan\n",
       "City                                             \n",
       "Amsterdam  1714.0   65.6    49.0        2       0\n",
       "Athens     1792.0   53.8    30.4        2       1\n",
       "Bogota     2152.0   37.9    11.5        1       1\n",
       "Bombay     2052.0   30.3     5.3        1       1\n",
       "Brussels   1708.0   73.8    50.5        2       0"
      ]
     },
     "execution_count": 31,
     "metadata": {},
     "output_type": "execute_result"
    }
   ],
   "source": [
    "link = linkage(df, 'ward', 'euclidean')\n",
    "df['cluster'] = fcluster(link, 2, criterion='maxclust')\n",
    "df['dbscan'] = dbscan.labels_\n",
    "df.head()"
   ]
  },
  {
   "cell_type": "code",
   "execution_count": 32,
   "metadata": {},
   "outputs": [
    {
     "name": "stdout",
     "output_type": "stream",
     "text": [
      " 1    21\n",
      " 0    19\n",
      "-1     8\n",
      "Name: dbscan, dtype: int64\n"
     ]
    }
   ],
   "source": [
    "print (df['dbscan'].value_counts())"
   ]
  },
  {
   "cell_type": "code",
   "execution_count": 33,
   "metadata": {},
   "outputs": [
    {
     "name": "stdout",
     "output_type": "stream",
     "text": [
      "cluster  1   2\n",
      "dbscan        \n",
      "-1       2   6\n",
      " 0       1  18\n",
      " 1       8  13\n"
     ]
    }
   ],
   "source": [
    "tab = pd.crosstab(df['dbscan'], df['cluster'])\n",
    "\n",
    "print(tab)\n"
   ]
  },
  {
   "cell_type": "markdown",
   "metadata": {},
   "source": [
    "Отличия моделей более чем заметны. Посмотрим на значения кластеров."
   ]
  },
  {
   "cell_type": "code",
   "execution_count": 34,
   "metadata": {},
   "outputs": [
    {
     "data": {
      "text/html": [
       "<div>\n",
       "<style scoped>\n",
       "    .dataframe tbody tr th:only-of-type {\n",
       "        vertical-align: middle;\n",
       "    }\n",
       "\n",
       "    .dataframe tbody tr th {\n",
       "        vertical-align: top;\n",
       "    }\n",
       "\n",
       "    .dataframe thead th {\n",
       "        text-align: right;\n",
       "    }\n",
       "</style>\n",
       "<table border=\"1\" class=\"dataframe\">\n",
       "  <thead>\n",
       "    <tr style=\"text-align: right;\">\n",
       "      <th></th>\n",
       "      <th>Work</th>\n",
       "      <th>Price</th>\n",
       "      <th>Salary</th>\n",
       "      <th>cluster</th>\n",
       "    </tr>\n",
       "    <tr>\n",
       "      <th>dbscan</th>\n",
       "      <th></th>\n",
       "      <th></th>\n",
       "      <th></th>\n",
       "      <th></th>\n",
       "    </tr>\n",
       "  </thead>\n",
       "  <tbody>\n",
       "    <tr>\n",
       "      <th>-1</th>\n",
       "      <td>1900.375000</td>\n",
       "      <td>99.925000</td>\n",
       "      <td>61.262500</td>\n",
       "      <td>1.750000</td>\n",
       "    </tr>\n",
       "    <tr>\n",
       "      <th>0</th>\n",
       "      <td>1792.000000</td>\n",
       "      <td>77.526316</td>\n",
       "      <td>55.157895</td>\n",
       "      <td>1.947368</td>\n",
       "    </tr>\n",
       "    <tr>\n",
       "      <th>1</th>\n",
       "      <td>1951.571429</td>\n",
       "      <td>49.185714</td>\n",
       "      <td>17.095238</td>\n",
       "      <td>1.619048</td>\n",
       "    </tr>\n",
       "  </tbody>\n",
       "</table>\n",
       "</div>"
      ],
      "text/plain": [
       "               Work      Price     Salary   cluster\n",
       "dbscan                                             \n",
       "-1      1900.375000  99.925000  61.262500  1.750000\n",
       " 0      1792.000000  77.526316  55.157895  1.947368\n",
       " 1      1951.571429  49.185714  17.095238  1.619048"
      ]
     },
     "execution_count": 34,
     "metadata": {},
     "output_type": "execute_result"
    }
   ],
   "source": [
    "df.groupby('dbscan').mean()"
   ]
  },
  {
   "cell_type": "markdown",
   "metadata": {},
   "source": [
    "#### Вывод\n",
    "Не смотря на присутсвие выбросов, модель построенная на методе dbscan мне импонирует, так как необходимость работать больше из-за низких зарплат для второго клаcтера (dbscan = 1), более выражена чем в модели k-средних."
   ]
  }
 ],
 "metadata": {
  "kernelspec": {
   "display_name": "Python 3",
   "language": "python",
   "name": "python3"
  },
  "language_info": {
   "codemirror_mode": {
    "name": "ipython",
    "version": 3
   },
   "file_extension": ".py",
   "mimetype": "text/x-python",
   "name": "python",
   "nbconvert_exporter": "python",
   "pygments_lexer": "ipython3",
   "version": "3.8.5"
  }
 },
 "nbformat": 4,
 "nbformat_minor": 4
}
