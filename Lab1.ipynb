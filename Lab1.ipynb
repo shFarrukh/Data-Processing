{
 "cells": [
  {
   "cell_type": "markdown",
   "metadata": {},
   "source": [
    "Экономика городов. Иерархический кластерный анализ."
   ]
  },
  {
   "cell_type": "markdown",
   "metadata": {},
   "source": [
    "Шарифов Фаррух N33472"
   ]
  },
  {
   "cell_type": "code",
   "execution_count": 20,
   "metadata": {},
   "outputs": [],
   "source": [
    "import numpy as np\n",
    "import pandas as pd\n",
    "\n",
    "\n",
    "import matplotlib\n",
    "import matplotlib.pyplot as plt\n",
    "matplotlib.style.use('ggplot')\n",
    "%matplotlib inline\n",
    "\n",
    "import os"
   ]
  },
  {
   "cell_type": "code",
   "execution_count": 21,
   "metadata": {
    "scrolled": true
   },
   "outputs": [],
   "source": [
    "os.chdir(\"C:/Users/Farrukh99/Desktop/subjects/3/Data processing/lecture 3/Lab1\")"
   ]
  },
  {
   "cell_type": "code",
   "execution_count": 41,
   "metadata": {},
   "outputs": [],
   "source": [
    "df = pd.read_csv(\"Econom_Cities_data.csv\", sep=';', decimal=',', index_col='City')\n"
   ]
  },
  {
   "cell_type": "code",
   "execution_count": 23,
   "metadata": {},
   "outputs": [
    {
     "name": "stdout",
     "output_type": "stream",
     "text": [
      "                Work  Price  Salary\n",
      "City                               \n",
      "Amsterdam       1714   65.6    49.0\n",
      "Athens          1792   53.8    30.4\n",
      "Bogota          2152   37.9    11.5\n",
      "Bombay          2052   30.3     5.3\n",
      "Brussels        1708   73.8    50.5\n",
      "Buenos_Aires    1971   56.1    12.5\n",
      "Cairo          -9999   37.1 -9999.0\n",
      "Caracas         2041   61.0    10.9\n",
      "Chicago         1924   73.9    61.9\n",
      "Copenhagen      1717   91.3    62.9\n",
      "Dublin          1759   76.0    41.4\n",
      "Dusseldorf      1693   78.5    60.2\n",
      "Frankfurt       1650   74.5    60.4\n",
      "Geneva          1880   95.9    90.3\n",
      "Helsinki        1667  113.6    66.6\n",
      "Hong_Kong       2375   63.8    27.8\n",
      "Houston         1978   71.9    46.3\n",
      "Jakarta        -9999   43.6 -9999.0\n",
      "Johannesburg    1945   51.1    24.0\n",
      "Kuala_Lumpur    2167   43.5     9.9\n",
      "Lagos           1786   45.2     2.7\n",
      "Lisbon          1742   56.2    18.8\n",
      "London          1737   84.2    46.2\n",
      "Los_Angeles     2068   79.8    65.2\n",
      "Luxembourg      1768   71.1    71.1\n",
      "Madrid          1710   93.8    50.0\n",
      "Manila          2268   40.0     4.0\n",
      "Mexico_City     1944   49.8     5.7\n",
      "Milan           1773   82.0    53.3\n",
      "Montreal        1827   72.7    56.3\n",
      "Nairobi         1958   45.0     5.8\n",
      "New_York        1942   83.3    65.8\n",
      "Nicosia         1825   47.9    28.3\n",
      "Oslo            1583  115.5    63.7\n",
      "Panama          2078   49.2    13.8\n",
      "Paris           1744   81.6    45.9\n",
      "Rio_de_Janeiro  1749   46.3    10.5\n",
      "San_Paulo       1856   48.9    11.1\n",
      "Seoul           1842   58.3    32.7\n",
      "Singpore        2042   64.4    16.1\n",
      "Stockholm       1805  111.3    39.2\n",
      "Sydney          1668   70.8    52.1\n",
      "Taipei          2145   84.3    34.5\n",
      "Tel_Aviv        2015   67.3    27.0\n",
      "Tokyo           1880  115.0    68.0\n",
      "Toronto         1888   70.2    58.2\n",
      "Vienna          1780   78.0    51.3\n",
      "Zurich          1868  100.0   100.0\n"
     ]
    }
   ],
   "source": [
    "print(df)"
   ]
  },
  {
   "cell_type": "raw",
   "metadata": {},
   "source": [
    "Для замены ошибочных значений, таких как work и solary в городах jakarta и ciaro, будем заполнять средным значением по выборке!"
   ]
  },
  {
   "cell_type": "code",
   "execution_count": 24,
   "metadata": {},
   "outputs": [
    {
     "data": {
      "text/html": [
       "<div>\n",
       "<style scoped>\n",
       "    .dataframe tbody tr th:only-of-type {\n",
       "        vertical-align: middle;\n",
       "    }\n",
       "\n",
       "    .dataframe tbody tr th {\n",
       "        vertical-align: top;\n",
       "    }\n",
       "\n",
       "    .dataframe thead th {\n",
       "        text-align: right;\n",
       "    }\n",
       "</style>\n",
       "<table border=\"1\" class=\"dataframe\">\n",
       "  <thead>\n",
       "    <tr style=\"text-align: right;\">\n",
       "      <th></th>\n",
       "      <th>Work</th>\n",
       "      <th>Price</th>\n",
       "      <th>Salary</th>\n",
       "    </tr>\n",
       "    <tr>\n",
       "      <th>City</th>\n",
       "      <th></th>\n",
       "      <th></th>\n",
       "      <th></th>\n",
       "    </tr>\n",
       "  </thead>\n",
       "  <tbody>\n",
       "    <tr>\n",
       "      <th>Amsterdam</th>\n",
       "      <td>1714.0</td>\n",
       "      <td>65.6</td>\n",
       "      <td>49.0</td>\n",
       "    </tr>\n",
       "    <tr>\n",
       "      <th>Athens</th>\n",
       "      <td>1792.0</td>\n",
       "      <td>53.8</td>\n",
       "      <td>30.4</td>\n",
       "    </tr>\n",
       "    <tr>\n",
       "      <th>Bogota</th>\n",
       "      <td>2152.0</td>\n",
       "      <td>37.9</td>\n",
       "      <td>11.5</td>\n",
       "    </tr>\n",
       "    <tr>\n",
       "      <th>Bombay</th>\n",
       "      <td>2052.0</td>\n",
       "      <td>30.3</td>\n",
       "      <td>5.3</td>\n",
       "    </tr>\n",
       "    <tr>\n",
       "      <th>Brussels</th>\n",
       "      <td>1708.0</td>\n",
       "      <td>73.8</td>\n",
       "      <td>50.5</td>\n",
       "    </tr>\n",
       "    <tr>\n",
       "      <th>Buenos_Aires</th>\n",
       "      <td>1971.0</td>\n",
       "      <td>56.1</td>\n",
       "      <td>12.5</td>\n",
       "    </tr>\n",
       "    <tr>\n",
       "      <th>Cairo</th>\n",
       "      <td>1879.0</td>\n",
       "      <td>37.1</td>\n",
       "      <td>39.0</td>\n",
       "    </tr>\n",
       "    <tr>\n",
       "      <th>Caracas</th>\n",
       "      <td>2041.0</td>\n",
       "      <td>61.0</td>\n",
       "      <td>10.9</td>\n",
       "    </tr>\n",
       "    <tr>\n",
       "      <th>Chicago</th>\n",
       "      <td>1924.0</td>\n",
       "      <td>73.9</td>\n",
       "      <td>61.9</td>\n",
       "    </tr>\n",
       "    <tr>\n",
       "      <th>Copenhagen</th>\n",
       "      <td>1717.0</td>\n",
       "      <td>91.3</td>\n",
       "      <td>62.9</td>\n",
       "    </tr>\n",
       "    <tr>\n",
       "      <th>Dublin</th>\n",
       "      <td>1759.0</td>\n",
       "      <td>76.0</td>\n",
       "      <td>41.4</td>\n",
       "    </tr>\n",
       "    <tr>\n",
       "      <th>Dusseldorf</th>\n",
       "      <td>1693.0</td>\n",
       "      <td>78.5</td>\n",
       "      <td>60.2</td>\n",
       "    </tr>\n",
       "    <tr>\n",
       "      <th>Frankfurt</th>\n",
       "      <td>1650.0</td>\n",
       "      <td>74.5</td>\n",
       "      <td>60.4</td>\n",
       "    </tr>\n",
       "    <tr>\n",
       "      <th>Geneva</th>\n",
       "      <td>1880.0</td>\n",
       "      <td>95.9</td>\n",
       "      <td>90.3</td>\n",
       "    </tr>\n",
       "    <tr>\n",
       "      <th>Helsinki</th>\n",
       "      <td>1667.0</td>\n",
       "      <td>113.6</td>\n",
       "      <td>66.6</td>\n",
       "    </tr>\n",
       "    <tr>\n",
       "      <th>Hong_Kong</th>\n",
       "      <td>2375.0</td>\n",
       "      <td>63.8</td>\n",
       "      <td>27.8</td>\n",
       "    </tr>\n",
       "    <tr>\n",
       "      <th>Houston</th>\n",
       "      <td>1978.0</td>\n",
       "      <td>71.9</td>\n",
       "      <td>46.3</td>\n",
       "    </tr>\n",
       "    <tr>\n",
       "      <th>Jakarta</th>\n",
       "      <td>1879.0</td>\n",
       "      <td>43.6</td>\n",
       "      <td>39.0</td>\n",
       "    </tr>\n",
       "    <tr>\n",
       "      <th>Johannesburg</th>\n",
       "      <td>1945.0</td>\n",
       "      <td>51.1</td>\n",
       "      <td>24.0</td>\n",
       "    </tr>\n",
       "    <tr>\n",
       "      <th>Kuala_Lumpur</th>\n",
       "      <td>2167.0</td>\n",
       "      <td>43.5</td>\n",
       "      <td>9.9</td>\n",
       "    </tr>\n",
       "    <tr>\n",
       "      <th>Lagos</th>\n",
       "      <td>1786.0</td>\n",
       "      <td>45.2</td>\n",
       "      <td>2.7</td>\n",
       "    </tr>\n",
       "    <tr>\n",
       "      <th>Lisbon</th>\n",
       "      <td>1742.0</td>\n",
       "      <td>56.2</td>\n",
       "      <td>18.8</td>\n",
       "    </tr>\n",
       "    <tr>\n",
       "      <th>London</th>\n",
       "      <td>1737.0</td>\n",
       "      <td>84.2</td>\n",
       "      <td>46.2</td>\n",
       "    </tr>\n",
       "    <tr>\n",
       "      <th>Los_Angeles</th>\n",
       "      <td>2068.0</td>\n",
       "      <td>79.8</td>\n",
       "      <td>65.2</td>\n",
       "    </tr>\n",
       "    <tr>\n",
       "      <th>Luxembourg</th>\n",
       "      <td>1768.0</td>\n",
       "      <td>71.1</td>\n",
       "      <td>71.1</td>\n",
       "    </tr>\n",
       "    <tr>\n",
       "      <th>Madrid</th>\n",
       "      <td>1710.0</td>\n",
       "      <td>93.8</td>\n",
       "      <td>50.0</td>\n",
       "    </tr>\n",
       "    <tr>\n",
       "      <th>Manila</th>\n",
       "      <td>2268.0</td>\n",
       "      <td>40.0</td>\n",
       "      <td>4.0</td>\n",
       "    </tr>\n",
       "    <tr>\n",
       "      <th>Mexico_City</th>\n",
       "      <td>1944.0</td>\n",
       "      <td>49.8</td>\n",
       "      <td>5.7</td>\n",
       "    </tr>\n",
       "    <tr>\n",
       "      <th>Milan</th>\n",
       "      <td>1773.0</td>\n",
       "      <td>82.0</td>\n",
       "      <td>53.3</td>\n",
       "    </tr>\n",
       "    <tr>\n",
       "      <th>Montreal</th>\n",
       "      <td>1827.0</td>\n",
       "      <td>72.7</td>\n",
       "      <td>56.3</td>\n",
       "    </tr>\n",
       "    <tr>\n",
       "      <th>Nairobi</th>\n",
       "      <td>1958.0</td>\n",
       "      <td>45.0</td>\n",
       "      <td>5.8</td>\n",
       "    </tr>\n",
       "    <tr>\n",
       "      <th>New_York</th>\n",
       "      <td>1942.0</td>\n",
       "      <td>83.3</td>\n",
       "      <td>65.8</td>\n",
       "    </tr>\n",
       "    <tr>\n",
       "      <th>Nicosia</th>\n",
       "      <td>1825.0</td>\n",
       "      <td>47.9</td>\n",
       "      <td>28.3</td>\n",
       "    </tr>\n",
       "    <tr>\n",
       "      <th>Oslo</th>\n",
       "      <td>1583.0</td>\n",
       "      <td>115.5</td>\n",
       "      <td>63.7</td>\n",
       "    </tr>\n",
       "    <tr>\n",
       "      <th>Panama</th>\n",
       "      <td>2078.0</td>\n",
       "      <td>49.2</td>\n",
       "      <td>13.8</td>\n",
       "    </tr>\n",
       "    <tr>\n",
       "      <th>Paris</th>\n",
       "      <td>1744.0</td>\n",
       "      <td>81.6</td>\n",
       "      <td>45.9</td>\n",
       "    </tr>\n",
       "    <tr>\n",
       "      <th>Rio_de_Janeiro</th>\n",
       "      <td>1749.0</td>\n",
       "      <td>46.3</td>\n",
       "      <td>10.5</td>\n",
       "    </tr>\n",
       "    <tr>\n",
       "      <th>San_Paulo</th>\n",
       "      <td>1856.0</td>\n",
       "      <td>48.9</td>\n",
       "      <td>11.1</td>\n",
       "    </tr>\n",
       "    <tr>\n",
       "      <th>Seoul</th>\n",
       "      <td>1842.0</td>\n",
       "      <td>58.3</td>\n",
       "      <td>32.7</td>\n",
       "    </tr>\n",
       "    <tr>\n",
       "      <th>Singpore</th>\n",
       "      <td>2042.0</td>\n",
       "      <td>64.4</td>\n",
       "      <td>16.1</td>\n",
       "    </tr>\n",
       "    <tr>\n",
       "      <th>Stockholm</th>\n",
       "      <td>1805.0</td>\n",
       "      <td>111.3</td>\n",
       "      <td>39.2</td>\n",
       "    </tr>\n",
       "    <tr>\n",
       "      <th>Sydney</th>\n",
       "      <td>1668.0</td>\n",
       "      <td>70.8</td>\n",
       "      <td>52.1</td>\n",
       "    </tr>\n",
       "    <tr>\n",
       "      <th>Taipei</th>\n",
       "      <td>2145.0</td>\n",
       "      <td>84.3</td>\n",
       "      <td>34.5</td>\n",
       "    </tr>\n",
       "    <tr>\n",
       "      <th>Tel_Aviv</th>\n",
       "      <td>2015.0</td>\n",
       "      <td>67.3</td>\n",
       "      <td>27.0</td>\n",
       "    </tr>\n",
       "    <tr>\n",
       "      <th>Tokyo</th>\n",
       "      <td>1880.0</td>\n",
       "      <td>115.0</td>\n",
       "      <td>68.0</td>\n",
       "    </tr>\n",
       "    <tr>\n",
       "      <th>Toronto</th>\n",
       "      <td>1888.0</td>\n",
       "      <td>70.2</td>\n",
       "      <td>58.2</td>\n",
       "    </tr>\n",
       "    <tr>\n",
       "      <th>Vienna</th>\n",
       "      <td>1780.0</td>\n",
       "      <td>78.0</td>\n",
       "      <td>51.3</td>\n",
       "    </tr>\n",
       "    <tr>\n",
       "      <th>Zurich</th>\n",
       "      <td>1868.0</td>\n",
       "      <td>100.0</td>\n",
       "      <td>100.0</td>\n",
       "    </tr>\n",
       "  </tbody>\n",
       "</table>\n",
       "</div>"
      ],
      "text/plain": [
       "                  Work  Price  Salary\n",
       "City                                 \n",
       "Amsterdam       1714.0   65.6    49.0\n",
       "Athens          1792.0   53.8    30.4\n",
       "Bogota          2152.0   37.9    11.5\n",
       "Bombay          2052.0   30.3     5.3\n",
       "Brussels        1708.0   73.8    50.5\n",
       "Buenos_Aires    1971.0   56.1    12.5\n",
       "Cairo           1879.0   37.1    39.0\n",
       "Caracas         2041.0   61.0    10.9\n",
       "Chicago         1924.0   73.9    61.9\n",
       "Copenhagen      1717.0   91.3    62.9\n",
       "Dublin          1759.0   76.0    41.4\n",
       "Dusseldorf      1693.0   78.5    60.2\n",
       "Frankfurt       1650.0   74.5    60.4\n",
       "Geneva          1880.0   95.9    90.3\n",
       "Helsinki        1667.0  113.6    66.6\n",
       "Hong_Kong       2375.0   63.8    27.8\n",
       "Houston         1978.0   71.9    46.3\n",
       "Jakarta         1879.0   43.6    39.0\n",
       "Johannesburg    1945.0   51.1    24.0\n",
       "Kuala_Lumpur    2167.0   43.5     9.9\n",
       "Lagos           1786.0   45.2     2.7\n",
       "Lisbon          1742.0   56.2    18.8\n",
       "London          1737.0   84.2    46.2\n",
       "Los_Angeles     2068.0   79.8    65.2\n",
       "Luxembourg      1768.0   71.1    71.1\n",
       "Madrid          1710.0   93.8    50.0\n",
       "Manila          2268.0   40.0     4.0\n",
       "Mexico_City     1944.0   49.8     5.7\n",
       "Milan           1773.0   82.0    53.3\n",
       "Montreal        1827.0   72.7    56.3\n",
       "Nairobi         1958.0   45.0     5.8\n",
       "New_York        1942.0   83.3    65.8\n",
       "Nicosia         1825.0   47.9    28.3\n",
       "Oslo            1583.0  115.5    63.7\n",
       "Panama          2078.0   49.2    13.8\n",
       "Paris           1744.0   81.6    45.9\n",
       "Rio_de_Janeiro  1749.0   46.3    10.5\n",
       "San_Paulo       1856.0   48.9    11.1\n",
       "Seoul           1842.0   58.3    32.7\n",
       "Singpore        2042.0   64.4    16.1\n",
       "Stockholm       1805.0  111.3    39.2\n",
       "Sydney          1668.0   70.8    52.1\n",
       "Taipei          2145.0   84.3    34.5\n",
       "Tel_Aviv        2015.0   67.3    27.0\n",
       "Tokyo           1880.0  115.0    68.0\n",
       "Toronto         1888.0   70.2    58.2\n",
       "Vienna          1780.0   78.0    51.3\n",
       "Zurich          1868.0  100.0   100.0"
      ]
     },
     "execution_count": 24,
     "metadata": {},
     "output_type": "execute_result"
    }
   ],
   "source": [
    "work = df['Work'].copy()\n",
    "work['Cairo'] = None\n",
    "work['Jakarta'] = None\n",
    "\n",
    "mean = int(work.mean())\n",
    "df['Work'] = work.fillna(mean)\n",
    "\n",
    "salary = df['Salary'].copy()\n",
    "salary['Cairo'] = None\n",
    "salary['Jakarta'] = None\n",
    "\n",
    "mean_s = int(salary.mean())\n",
    "df['Salary'] = salary.fillna(mean_s)\n",
    "\n",
    "df\n"
   ]
  },
  {
   "cell_type": "markdown",
   "metadata": {},
   "source": [
    "Стандартизация данных.\n",
    "\n",
    "Так как они отличаются по смыслу и следовательно их значения различны на порядок."
   ]
  },
  {
   "cell_type": "code",
   "execution_count": 42,
   "metadata": {},
   "outputs": [
    {
     "name": "stdout",
     "output_type": "stream",
     "text": [
      "                    Work     Price    Salary\n",
      "City                                        \n",
      "Amsterdam       0.138269 -0.151250  0.213212\n",
      "Athens          0.171046 -0.698647  0.203941\n",
      "Bogota          0.322325 -1.436242  0.194519\n",
      "Bombay          0.280303 -1.788804  0.191429\n",
      "Brussels        0.135748  0.229145  0.213960\n",
      "Buenos_Aires    0.246266 -0.591951  0.195018\n",
      "Cairo          -4.783750 -1.473354 -4.795489\n",
      "Caracas         0.275681 -0.364642  0.194220\n",
      "Chicago         0.226515  0.233784  0.219643\n",
      "Copenhagen      0.139530  1.040964  0.220141\n",
      "Dublin          0.157179  0.331203  0.209424\n",
      "Dusseldorf      0.129445  0.447177  0.218795\n",
      "Frankfurt       0.111375  0.261618  0.218895\n",
      "Geneva          0.208026  1.254356  0.233799\n",
      "Helsinki        0.118519  2.075453  0.221986\n",
      "Hong_Kong       0.416034 -0.234751  0.202645\n",
      "Houston         0.249207  0.141005  0.211866\n",
      "Jakarta        -4.783750 -1.171821 -4.795489\n",
      "Johannesburg    0.235340 -0.823899  0.200750\n",
      "Kuala_Lumpur    0.328628 -1.176460  0.193722\n",
      "Lagos           0.168525 -1.097598  0.190133\n",
      "Lisbon          0.150036 -0.587312  0.198158\n",
      "London          0.147934  0.711598  0.211817\n",
      "Los_Angeles     0.287027  0.507483  0.221288\n",
      "Luxembourg      0.160961  0.103893  0.224229\n",
      "Madrid          0.136589  1.156938  0.213711\n",
      "Manila          0.371070 -1.338824  0.190781\n",
      "Mexico_City     0.234920 -0.884206  0.191628\n",
      "Milan           0.163062  0.609540  0.215356\n",
      "Montreal        0.185754  0.178117  0.216851\n",
      "Nairobi         0.240803 -1.106876  0.191678\n",
      "New_York        0.234079  0.669847  0.221587\n",
      "Nicosia         0.184914 -0.972346  0.202894\n",
      "Oslo            0.083221  2.163593  0.220540\n",
      "Panama          0.291229 -0.912039  0.195666\n",
      "Paris           0.150876  0.590985  0.211667\n",
      "Rio_de_Janeiro  0.152977 -1.046569  0.194021\n",
      "San_Paulo       0.197940 -0.925956  0.194320\n",
      "Seoul           0.192057 -0.489894  0.205087\n",
      "Singpore        0.276101 -0.206917  0.196812\n",
      "Stockholm       0.176509  1.968757  0.208327\n",
      "Sydney          0.118939  0.089977  0.214758\n",
      "Taipei          0.319384  0.716237  0.205984\n",
      "Tel_Aviv        0.264755 -0.072387  0.202246\n",
      "Tokyo           0.208026  2.140398  0.222683\n",
      "Toronto         0.211387  0.062143  0.217798\n",
      "Vienna          0.166004  0.423982  0.214359\n",
      "Zurich          0.202983  1.444554  0.238635\n"
     ]
    }
   ],
   "source": [
    "from sklearn import preprocessing\n",
    "\n",
    "norm = preprocessing.StandardScaler()\n",
    "X = norm.fit_transform(df)\n",
    "X = pd.DataFrame(X, index=df.index, columns=df.columns)\n",
    "\n",
    "print(X)"
   ]
  },
  {
   "cell_type": "markdown",
   "metadata": {},
   "source": [
    "Проводим иерархический кластерный анализ функцией linkage. Использем\n",
    "метод вычисления расстояний между кластерами ward и метод вычисления\n",
    "расстояний между объектами euclidean."
   ]
  },
  {
   "cell_type": "code",
   "execution_count": 26,
   "metadata": {},
   "outputs": [],
   "source": [
    "#  Строим дендрограмму\n",
    "from scipy.cluster.hierarchy import dendrogram, linkage, fcluster\n",
    "link = linkage(X, 'ward', 'euclidean')"
   ]
  },
  {
   "cell_type": "code",
   "execution_count": 27,
   "metadata": {},
   "outputs": [
    {
     "name": "stdout",
     "output_type": "stream",
     "text": [
      "<class 'numpy.ndarray'>\n",
      "(47, 4)\n"
     ]
    }
   ],
   "source": [
    "print(type(link))\n",
    "print(link.shape)"
   ]
  },
  {
   "cell_type": "code",
   "execution_count": 28,
   "metadata": {},
   "outputs": [
    {
     "data": {
      "image/png": "[encoded data removed]",
      "text/plain": [
       "<Figure size 432x288 with 1 Axes>"
      ]
     },
     "metadata": {
      "needs_background": "light"
     },
     "output_type": "display_data"
    }
   ],
   "source": [
    "dn = dendrogram(link)"
   ]
  },
  {
   "cell_type": "markdown",
   "metadata": {},
   "source": [
    "Определим какое количество кластеров оптимален."
   ]
  },
  {
   "cell_type": "code",
   "execution_count": 29,
   "metadata": {},
   "outputs": [
    {
     "data": {
      "text/plain": [
       "Text(0, 0.5, 'Distance')"
      ]
     },
     "execution_count": 29,
     "metadata": {},
     "output_type": "execute_result"
    },
    {
     "data": {
      "image/png": "[encoded data removed]",
      "text/plain": [
       "<Figure size 432x288 with 1 Axes>"
      ]
     },
     "metadata": {
      "needs_background": "light"
     },
     "output_type": "display_data"
    }
   ],
   "source": [
    "dist = link[:, 2]\n",
    "dist_rev = dist[::-1]\n",
    "idxs = range(1, len(dist) + 1)\n",
    "plt.plot(idxs, dist_rev, marker='o')\n",
    "plt.title('Distance between merged clusters')\n",
    "plt.xlabel('Step')\n",
    "plt.ylabel('Distance')"
   ]
  },
  {
   "cell_type": "markdown",
   "metadata": {},
   "source": [
    "График каменистой осыпи не дал ощутимых результатов. Попробуем в ручную перебрать разное колчестов кластеров."
   ]
  },
  {
   "cell_type": "code",
   "execution_count": 30,
   "metadata": {},
   "outputs": [
    {
     "data": {
      "image/png": "[encoded data removed]",
      "text/plain": [
       "<Figure size 864x864 with 1 Axes>"
      ]
     },
     "metadata": {
      "needs_background": "light"
     },
     "output_type": "display_data"
    }
   ],
   "source": [
    "fig = plt.figure(figsize=(12,12))\n",
    "dn = dendrogram(link,\n",
    "                # массив с названиями объектов для подписи по оси X\n",
    "                labels = X.index.tolist(),\n",
    "                leaf_font_size = 14, \n",
    "                # опция для более красивого отображения слишком ветвистой дендрограммы\n",
    "                truncate_mode='lastp',\n",
    "                # повернуть подписи вертикально\n",
    "                color_threshold=4,\n",
    "                orientation = \"right\",\n",
    "                leaf_rotation=0.)"
   ]
  },
  {
   "cell_type": "markdown",
   "metadata": {},
   "source": [
    "Я предпочту ответ 4 кластера.\n",
    "Переходим к интерпретации кластеров. Добавляем столбец cluster к таблице\n",
    "данных."
   ]
  },
  {
   "cell_type": "code",
   "execution_count": 31,
   "metadata": {},
   "outputs": [],
   "source": [
    "df['cluster'] = fcluster(link, 4, criterion='distance')"
   ]
  },
  {
   "cell_type": "code",
   "execution_count": 32,
   "metadata": {},
   "outputs": [
    {
     "name": "stdout",
     "output_type": "stream",
     "text": [
      "                  Work  Price  Salary  cluster\n",
      "City                                          \n",
      "Amsterdam       1714.0   65.6    49.0        2\n",
      "Athens          1792.0   53.8    30.4        3\n",
      "Bogota          2152.0   37.9    11.5        4\n",
      "Bombay          2052.0   30.3     5.3        4\n",
      "Brussels        1708.0   73.8    50.5        2\n",
      "Buenos_Aires    1971.0   56.1    12.5        4\n",
      "Cairo           1879.0   37.1    39.0        3\n",
      "Caracas         2041.0   61.0    10.9        4\n",
      "Chicago         1924.0   73.9    61.9        2\n",
      "Copenhagen      1717.0   91.3    62.9        2\n",
      "Dublin          1759.0   76.0    41.4        2\n",
      "Dusseldorf      1693.0   78.5    60.2        2\n",
      "Frankfurt       1650.0   74.5    60.4        2\n",
      "Geneva          1880.0   95.9    90.3        1\n",
      "Helsinki        1667.0  113.6    66.6        1\n",
      "Hong_Kong       2375.0   63.8    27.8        4\n",
      "Houston         1978.0   71.9    46.3        2\n",
      "Jakarta         1879.0   43.6    39.0        3\n",
      "Johannesburg    1945.0   51.1    24.0        4\n",
      "Kuala_Lumpur    2167.0   43.5     9.9        4\n",
      "Lagos           1786.0   45.2     2.7        3\n",
      "Lisbon          1742.0   56.2    18.8        3\n",
      "London          1737.0   84.2    46.2        2\n",
      "Los_Angeles     2068.0   79.8    65.2        2\n",
      "Luxembourg      1768.0   71.1    71.1        2\n",
      "Madrid          1710.0   93.8    50.0        2\n",
      "Manila          2268.0   40.0     4.0        4\n",
      "Mexico_City     1944.0   49.8     5.7        4\n",
      "Milan           1773.0   82.0    53.3        2\n",
      "Montreal        1827.0   72.7    56.3        2\n",
      "Nairobi         1958.0   45.0     5.8        4\n",
      "New_York        1942.0   83.3    65.8        2\n",
      "Nicosia         1825.0   47.9    28.3        3\n",
      "Oslo            1583.0  115.5    63.7        1\n",
      "Panama          2078.0   49.2    13.8        4\n",
      "Paris           1744.0   81.6    45.9        2\n",
      "Rio_de_Janeiro  1749.0   46.3    10.5        3\n",
      "San_Paulo       1856.0   48.9    11.1        3\n",
      "Seoul           1842.0   58.3    32.7        3\n",
      "Singpore        2042.0   64.4    16.1        4\n",
      "Stockholm       1805.0  111.3    39.2        1\n",
      "Sydney          1668.0   70.8    52.1        2\n",
      "Taipei          2145.0   84.3    34.5        4\n",
      "Tel_Aviv        2015.0   67.3    27.0        4\n",
      "Tokyo           1880.0  115.0    68.0        1\n",
      "Toronto         1888.0   70.2    58.2        2\n",
      "Vienna          1780.0   78.0    51.3        2\n",
      "Zurich          1868.0  100.0   100.0        1\n"
     ]
    }
   ],
   "source": [
    "print(df)"
   ]
  },
  {
   "cell_type": "markdown",
   "metadata": {},
   "source": [
    "Смотрим размеры и средние значения характеристик в каждом кластере"
   ]
  },
  {
   "cell_type": "code",
   "execution_count": 33,
   "metadata": {},
   "outputs": [
    {
     "data": {
      "text/plain": [
       "cluster\n",
       "1     6\n",
       "2    19\n",
       "3     9\n",
       "4    14\n",
       "dtype: int64"
      ]
     },
     "execution_count": 33,
     "metadata": {},
     "output_type": "execute_result"
    }
   ],
   "source": [
    "df.groupby('cluster').size()"
   ]
  },
  {
   "cell_type": "code",
   "execution_count": 34,
   "metadata": {},
   "outputs": [
    {
     "data": {
      "text/html": [
       "<div>\n",
       "<style scoped>\n",
       "    .dataframe tbody tr th:only-of-type {\n",
       "        vertical-align: middle;\n",
       "    }\n",
       "\n",
       "    .dataframe tbody tr th {\n",
       "        vertical-align: top;\n",
       "    }\n",
       "\n",
       "    .dataframe thead th {\n",
       "        text-align: right;\n",
       "    }\n",
       "</style>\n",
       "<table border=\"1\" class=\"dataframe\">\n",
       "  <thead>\n",
       "    <tr style=\"text-align: right;\">\n",
       "      <th></th>\n",
       "      <th>Work</th>\n",
       "      <th>Price</th>\n",
       "      <th>Salary</th>\n",
       "    </tr>\n",
       "    <tr>\n",
       "      <th>cluster</th>\n",
       "      <th></th>\n",
       "      <th></th>\n",
       "      <th></th>\n",
       "    </tr>\n",
       "  </thead>\n",
       "  <tbody>\n",
       "    <tr>\n",
       "      <th>1</th>\n",
       "      <td>1780.500000</td>\n",
       "      <td>108.550000</td>\n",
       "      <td>71.300000</td>\n",
       "    </tr>\n",
       "    <tr>\n",
       "      <th>2</th>\n",
       "      <td>1792.000000</td>\n",
       "      <td>77.526316</td>\n",
       "      <td>55.157895</td>\n",
       "    </tr>\n",
       "    <tr>\n",
       "      <th>3</th>\n",
       "      <td>1816.666667</td>\n",
       "      <td>48.588889</td>\n",
       "      <td>23.611111</td>\n",
       "    </tr>\n",
       "    <tr>\n",
       "      <th>4</th>\n",
       "      <td>2082.357143</td>\n",
       "      <td>53.121429</td>\n",
       "      <td>14.914286</td>\n",
       "    </tr>\n",
       "  </tbody>\n",
       "</table>\n",
       "</div>"
      ],
      "text/plain": [
       "                Work       Price     Salary\n",
       "cluster                                    \n",
       "1        1780.500000  108.550000  71.300000\n",
       "2        1792.000000   77.526316  55.157895\n",
       "3        1816.666667   48.588889  23.611111\n",
       "4        2082.357143   53.121429  14.914286"
      ]
     },
     "execution_count": 34,
     "metadata": {},
     "output_type": "execute_result"
    }
   ],
   "source": [
    "df.groupby('cluster').mean()"
   ]
  },
  {
   "cell_type": "code",
   "execution_count": 35,
   "metadata": {},
   "outputs": [
    {
     "data": {
      "text/plain": [
       "City\n",
       "Zurich            1\n",
       "Tokyo             1\n",
       "Stockholm         1\n",
       "Oslo              1\n",
       "Geneva            1\n",
       "Helsinki          1\n",
       "Toronto           2\n",
       "Sydney            2\n",
       "Paris             2\n",
       "New_York          2\n",
       "Montreal          2\n",
       "Milan             2\n",
       "Madrid            2\n",
       "Luxembourg        2\n",
       "Vienna            2\n",
       "London            2\n",
       "Amsterdam         2\n",
       "Los_Angeles       2\n",
       "Brussels          2\n",
       "Frankfurt         2\n",
       "Dusseldorf        2\n",
       "Dublin            2\n",
       "Houston           2\n",
       "Copenhagen        2\n",
       "Chicago           2\n",
       "Athens            3\n",
       "Seoul             3\n",
       "San_Paulo         3\n",
       "Rio_de_Janeiro    3\n",
       "Cairo             3\n",
       "Jakarta           3\n",
       "Nicosia           3\n",
       "Lisbon            3\n",
       "Lagos             3\n",
       "Johannesburg      4\n",
       "Bogota            4\n",
       "Tel_Aviv          4\n",
       "Taipei            4\n",
       "Bombay            4\n",
       "Kuala_Lumpur      4\n",
       "Caracas           4\n",
       "Hong_Kong         4\n",
       "Buenos_Aires      4\n",
       "Panama            4\n",
       "Manila            4\n",
       "Mexico_City       4\n",
       "Nairobi           4\n",
       "Singpore          4\n",
       "Name: cluster, dtype: int32"
      ]
     },
     "execution_count": 35,
     "metadata": {},
     "output_type": "execute_result"
    }
   ],
   "source": [
    "df['cluster'].sort_values()"
   ]
  },
  {
   "cell_type": "markdown",
   "metadata": {},
   "source": [
    "Будем классифицировать данные на 2 кластера, так как если более чем 2 кластера их сложно классифицировать."
   ]
  },
  {
   "cell_type": "code",
   "execution_count": 36,
   "metadata": {},
   "outputs": [
    {
     "data": {
      "image/png": "[encoded data removed]",
      "text/plain": [
       "<Figure size 864x864 with 1 Axes>"
      ]
     },
     "metadata": {
      "needs_background": "light"
     },
     "output_type": "display_data"
    }
   ],
   "source": [
    "fig = plt.figure(figsize=(12,12))\n",
    "dn = dendrogram(link,\n",
    "                # массив с названиями объектов для подписи по оси X\n",
    "                labels = X.index.tolist(),\n",
    "                leaf_font_size = 14, \n",
    "                # опция для более красивого отображения слишком ветвистой дендрограммы\n",
    "                truncate_mode='lastp',\n",
    "                # повернуть подписи вертикально\n",
    "                color_threshold=6,\n",
    "                orientation = \"right\",\n",
    "                leaf_rotation=0.)"
   ]
  },
  {
   "cell_type": "code",
   "execution_count": 37,
   "metadata": {},
   "outputs": [],
   "source": [
    "df['cluster'] = fcluster(link, 6, criterion='distance')"
   ]
  },
  {
   "cell_type": "code",
   "execution_count": 38,
   "metadata": {},
   "outputs": [
    {
     "data": {
      "text/plain": [
       "cluster\n",
       "1    25\n",
       "2    23\n",
       "dtype: int64"
      ]
     },
     "execution_count": 38,
     "metadata": {},
     "output_type": "execute_result"
    }
   ],
   "source": [
    "df.groupby('cluster').size()"
   ]
  },
  {
   "cell_type": "code",
   "execution_count": 39,
   "metadata": {},
   "outputs": [
    {
     "data": {
      "text/html": [
       "<div>\n",
       "<style scoped>\n",
       "    .dataframe tbody tr th:only-of-type {\n",
       "        vertical-align: middle;\n",
       "    }\n",
       "\n",
       "    .dataframe tbody tr th {\n",
       "        vertical-align: top;\n",
       "    }\n",
       "\n",
       "    .dataframe thead th {\n",
       "        text-align: right;\n",
       "    }\n",
       "</style>\n",
       "<table border=\"1\" class=\"dataframe\">\n",
       "  <thead>\n",
       "    <tr style=\"text-align: right;\">\n",
       "      <th></th>\n",
       "      <th>Work</th>\n",
       "      <th>Price</th>\n",
       "      <th>Salary</th>\n",
       "    </tr>\n",
       "    <tr>\n",
       "      <th>cluster</th>\n",
       "      <th></th>\n",
       "      <th></th>\n",
       "      <th></th>\n",
       "    </tr>\n",
       "  </thead>\n",
       "  <tbody>\n",
       "    <tr>\n",
       "      <th>1</th>\n",
       "      <td>1789.240000</td>\n",
       "      <td>84.972000</td>\n",
       "      <td>59.032000</td>\n",
       "    </tr>\n",
       "    <tr>\n",
       "      <th>2</th>\n",
       "      <td>1978.391304</td>\n",
       "      <td>51.347826</td>\n",
       "      <td>18.317391</td>\n",
       "    </tr>\n",
       "  </tbody>\n",
       "</table>\n",
       "</div>"
      ],
      "text/plain": [
       "                Work      Price     Salary\n",
       "cluster                                   \n",
       "1        1789.240000  84.972000  59.032000\n",
       "2        1978.391304  51.347826  18.317391"
      ]
     },
     "execution_count": 39,
     "metadata": {},
     "output_type": "execute_result"
    }
   ],
   "source": [
    "df.groupby('cluster').mean()"
   ]
  },
  {
   "cell_type": "markdown",
   "metadata": {},
   "source": [
    "### ВЫВОД\n",
    "Можно с уверенностью сказать о различии этих кластеров. \n",
    "Первый кластер это города в развитых страннах, с высоким уровнем жизни и ценой на эту жизнь.\n",
    "Второй кластер это тоже большие города, но зарплаты в этих городах на парядок ниже чем у первого кластера."
   ]
  },
  {
   "cell_type": "code",
   "execution_count": 40,
   "metadata": {},
   "outputs": [
    {
     "data": {
      "text/plain": [
       "City\n",
       "Amsterdam         1\n",
       "Toronto           1\n",
       "Tokyo             1\n",
       "Sydney            1\n",
       "Stockholm         1\n",
       "Paris             1\n",
       "Oslo              1\n",
       "New_York          1\n",
       "Montreal          1\n",
       "Milan             1\n",
       "Madrid            1\n",
       "Luxembourg        1\n",
       "Vienna            1\n",
       "London            1\n",
       "Houston           1\n",
       "Los_Angeles       1\n",
       "Helsinki          1\n",
       "Brussels          1\n",
       "Chicago           1\n",
       "Copenhagen        1\n",
       "Dublin            1\n",
       "Dusseldorf        1\n",
       "Frankfurt         1\n",
       "Zurich            1\n",
       "Geneva            1\n",
       "Lisbon            2\n",
       "Athens            2\n",
       "Bogota            2\n",
       "Tel_Aviv          2\n",
       "Taipei            2\n",
       "Bombay            2\n",
       "Jakarta           2\n",
       "Singpore          2\n",
       "Seoul             2\n",
       "San_Paulo         2\n",
       "Rio_de_Janeiro    2\n",
       "Buenos_Aires      2\n",
       "Cairo             2\n",
       "Nicosia           2\n",
       "Hong_Kong         2\n",
       "Nairobi           2\n",
       "Johannesburg      2\n",
       "Kuala_Lumpur      2\n",
       "Mexico_City       2\n",
       "Manila            2\n",
       "Lagos             2\n",
       "Panama            2\n",
       "Caracas           2\n",
       "Name: cluster, dtype: int32"
      ]
     },
     "execution_count": 40,
     "metadata": {},
     "output_type": "execute_result"
    }
   ],
   "source": [
    "df['cluster'].sort_values()"
   ]
  }
 ],
 "metadata": {
  "kernelspec": {
   "display_name": "Python 3",
   "language": "python",
   "name": "python3"
  },
  "language_info": {
   "codemirror_mode": {
    "name": "ipython",
    "version": 3
   },
   "file_extension": ".py",
   "mimetype": "text/x-python",
   "name": "python",
   "nbconvert_exporter": "python",
   "pygments_lexer": "ipython3",
   "version": "3.8.5"
  }
 },
 "nbformat": 4,
 "nbformat_minor": 4
}
