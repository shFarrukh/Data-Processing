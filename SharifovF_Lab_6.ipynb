{
 "cells": [
  {
   "cell_type": "markdown",
   "metadata": {},
   "source": [
    "#### Шарифов Фаррух Рустамович \n",
    "#### Cтудент группы  N33472"
   ]
  },
  {
   "cell_type": "markdown",
   "metadata": {
    "id": "0XlAcH-h3z38"
   },
   "source": [
    "####  Задача \n",
    "В лифт 8-этажного дома на первом этаже вошли 5 человек. Предположим, что каждый из них с равной вероятностью может выйти на любом из этажей, начиная со второго. Найти вероятность того, что все пятеро выйдут на разных этажах.\n"
   ]
  },
  {
   "cell_type": "code",
   "execution_count": 1,
   "metadata": {
    "id": "u9LuaH1k3Pyi"
   },
   "outputs": [],
   "source": [
    "import pandas as pd\n",
    "import numpy as np\n",
    "import random"
   ]
  },
  {
   "cell_type": "markdown",
   "metadata": {
    "id": "efl1c1GU0bLs"
   },
   "source": [
    "Имитация эксперимента - с помощью randint имитируем выход людей на этаже (значение = этаж). Далее проверяем есть ли повторяющиеся значения (если да, то люди вышли на одном этаже)."
   ]
  },
  {
   "cell_type": "code",
   "execution_count": 26,
   "metadata": {
    "id": "BdF--XFQg2Cy"
   },
   "outputs": [],
   "source": [
    "def exp(n):\n",
    "  k=0\n",
    "  random.seed(123456)\n",
    "  for i in range(n):\n",
    "    floor = [random.randint(2,8) for _ in range(5)] #Люди выходят на своих этажах\n",
    "    if np.unique(floor).size == 5:                  #Проверяем, все ли значения уникальны (нет ли одинаковых этажей)\n",
    "      k += 1\n",
    "  return(k/n)"
   ]
  },
  {
   "cell_type": "markdown",
   "metadata": {
    "id": "mVVEf3cSlURl"
   },
   "source": [
    "Проводим имитацию при различном количестве экспериментов"
   ]
  },
  {
   "cell_type": "code",
   "execution_count": 27,
   "metadata": {
    "colab": {
     "base_uri": "https://localhost:8080/"
    },
    "id": "K_5qRWgajfoc",
    "outputId": "428893bc-a8cd-445e-f23d-7b2a4786e97d"
   },
   "outputs": [
    {
     "data": {
      "text/plain": [
       "0.149486"
      ]
     },
     "execution_count": 27,
     "metadata": {
      "tags": []
     },
     "output_type": "execute_result"
    }
   ],
   "source": [
    "exp(10**6)"
   ]
  },
  {
   "cell_type": "code",
   "execution_count": 28,
   "metadata": {
    "colab": {
     "base_uri": "https://localhost:8080/"
    },
    "id": "qquBvvEbjpxA",
    "outputId": "96ab7ede-e08d-43f7-ad72-68ee7c3a187f"
   },
   "outputs": [
    {
     "data": {
      "text/plain": [
       "0.1496715"
      ]
     },
     "execution_count": 28,
     "metadata": {
      "tags": []
     },
     "output_type": "execute_result"
    }
   ],
   "source": [
    "exp(20*10**5)"
   ]
  },
  {
   "cell_type": "code",
   "execution_count": 29,
   "metadata": {
    "colab": {
     "base_uri": "https://localhost:8080/"
    },
    "id": "lsEC2hZoj5mc",
    "outputId": "87bf2cc5-8632-4336-a261-58cc2c4ef3ed"
   },
   "outputs": [
    {
     "data": {
      "text/plain": [
       "0.14998433333333333"
      ]
     },
     "execution_count": 29,
     "metadata": {
      "tags": []
     },
     "output_type": "execute_result"
    }
   ],
   "source": [
    "exp (30*10**5)"
   ]
  },
  {
   "cell_type": "code",
   "execution_count": 30,
   "metadata": {
    "colab": {
     "base_uri": "https://localhost:8080/"
    },
    "id": "whEWz1jzkMrn",
    "outputId": "48da9dc6-5ad9-47d9-88a6-7e2975a5781a"
   },
   "outputs": [
    {
     "data": {
      "text/plain": [
       "0.149957"
      ]
     },
     "execution_count": 30,
     "metadata": {
      "tags": []
     },
     "output_type": "execute_result"
    }
   ],
   "source": [
    "exp(40*10**5)"
   ]
  },
  {
   "cell_type": "markdown",
   "metadata": {
    "id": "zhouBJxjkmdk"
   },
   "source": [
    "#### Вывод\n",
    "В результате лабораторной было проведено 4 имитации с различным числом экспериментов. Во всех случаях экспериментов было проведено достаточное количество для точности результата, а вероятности оказались примерно равными, что говорит о корректно проведенной работе."
   ]
  },
  {
   "cell_type": "code",
   "execution_count": null,
   "metadata": {},
   "outputs": [],
   "source": []
  }
 ],
 "metadata": {
  "colab": {
   "collapsed_sections": [],
   "name": "Шарифов_Лаб_6",
   "provenance": []
  },
  "kernelspec": {
   "display_name": "Python 3",
   "language": "python",
   "name": "python3"
  },
  "language_info": {
   "codemirror_mode": {
    "name": "ipython",
    "version": 3
   },
   "file_extension": ".py",
   "mimetype": "text/x-python",
   "name": "python",
   "nbconvert_exporter": "python",
   "pygments_lexer": "ipython3",
   "version": "3.8.5"
  }
 },
 "nbformat": 4,
 "nbformat_minor": 1
}
