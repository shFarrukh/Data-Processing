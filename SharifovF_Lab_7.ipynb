{
 "cells": [
  {
   "cell_type": "markdown",
   "metadata": {},
   "source": [
    "#### Шарифов Фаррух Рустамович \n",
    "#### Cтудент группы  N33472"
   ]
  },
  {
   "cell_type": "markdown",
   "metadata": {
    "id": "0XlAcH-h3z38"
   },
   "source": [
    "#### Задача\n",
    "Колода игральных карт содержит 52 карты, разделяющиеся на 4 различные масти по 13 карт в каждой. Предположим, что колода тщательно перетасована, так что вытаскивание любой карты одинаково вероятно. Вытащим 6 из них. \n",
    "Найти вероятность того, что среди этих карт не будет карт червовой масти\n"
   ]
  },
  {
   "cell_type": "code",
   "execution_count": 1,
   "metadata": {
    "id": "u9LuaH1k3Pyi"
   },
   "outputs": [],
   "source": [
    "import pandas as pd\n",
    "import numpy as np\n",
    "import random"
   ]
  },
  {
   "cell_type": "markdown",
   "metadata": {
    "id": "A44qjeC_n6ba"
   },
   "source": [
    "Создаем \"колоду\""
   ]
  },
  {
   "cell_type": "code",
   "execution_count": 2,
   "metadata": {
    "id": "sI6iRnt67rz3"
   },
   "outputs": [],
   "source": [
    "deck = [\"s\"] * 13 + [\"h\"] * 13 + [\"d\"] * 13 + [\"c\"] * 13 "
   ]
  },
  {
   "cell_type": "markdown",
   "metadata": {
    "id": "j8zDiNRUn9YM"
   },
   "source": [
    "Имитация эксперимента - вытаскиваем 6 карт без возвращения, проверяем есть ли среди них червовая масть (если a.count('h') больше 0, значит есть). Инкриментируем если нет."
   ]
  },
  {
   "cell_type": "code",
   "execution_count": 8,
   "metadata": {
    "id": "RtxUB3RrmbfJ"
   },
   "outputs": [],
   "source": [
    "def exp (n):\n",
    "  random.seed(12345)\n",
    "  k = 0\n",
    "  for i in range(n):\n",
    "    a = random.sample(deck, 6)   #Вытаскиваем 6 карт\n",
    "    if (a.count('h')==0):        #Если нет червовой масти, то увеличиваем счетчик \n",
    "      k += 1\n",
    "  return (k/n)"
   ]
  },
  {
   "cell_type": "code",
   "execution_count": 9,
   "metadata": {
    "colab": {
     "base_uri": "https://localhost:8080/"
    },
    "id": "T6P-eHq5nrQV",
    "outputId": "3b2e2582-ff2c-478c-fa69-7383edea8176"
   },
   "outputs": [
    {
     "data": {
      "text/plain": [
       "0.160382"
      ]
     },
     "execution_count": 9,
     "metadata": {
      "tags": []
     },
     "output_type": "execute_result"
    }
   ],
   "source": [
    "exp(10**6)"
   ]
  },
  {
   "cell_type": "code",
   "execution_count": 10,
   "metadata": {
    "colab": {
     "base_uri": "https://localhost:8080/"
    },
    "id": "dPW0tXnCnzqJ",
    "outputId": "8b089ac8-3582-4eac-c3cb-b8e92eb27721"
   },
   "outputs": [
    {
     "data": {
      "text/plain": [
       "0.160438"
      ]
     },
     "execution_count": 10,
     "metadata": {
      "tags": []
     },
     "output_type": "execute_result"
    }
   ],
   "source": [
    "exp(20*10**5)"
   ]
  },
  {
   "cell_type": "code",
   "execution_count": 11,
   "metadata": {
    "colab": {
     "base_uri": "https://localhost:8080/"
    },
    "id": "Z6c4fiQxn0nH",
    "outputId": "5fb2ab12-7229-4c20-cb0a-b3bab79b7e40"
   },
   "outputs": [
    {
     "data": {
      "text/plain": [
       "0.16044766666666666"
      ]
     },
     "execution_count": 11,
     "metadata": {
      "tags": []
     },
     "output_type": "execute_result"
    }
   ],
   "source": [
    "exp(30*10**5)"
   ]
  },
  {
   "cell_type": "code",
   "execution_count": 12,
   "metadata": {
    "colab": {
     "base_uri": "https://localhost:8080/"
    },
    "id": "tB-Bsdb9n2Jl",
    "outputId": "1a7d3fd3-855f-46c7-8728-6bd568c807a6"
   },
   "outputs": [
    {
     "data": {
      "text/plain": [
       "0.16038275"
      ]
     },
     "execution_count": 12,
     "metadata": {
      "tags": []
     },
     "output_type": "execute_result"
    }
   ],
   "source": [
    "exp(40*10**5)"
   ]
  },
  {
   "cell_type": "markdown",
   "metadata": {
    "id": "zdwB6D8M7LsD"
   },
   "source": [
    "#### Вывод\n",
    "В результате лабораторной было проведено 4 имитации с различным числом экспериментов. Во всех случаях экспериментов было проведено достаточное количество для точности результата, а вероятности оказались примерно равными, что говорит о корректно проведенной работе."
   ]
  },
  {
   "cell_type": "code",
   "execution_count": null,
   "metadata": {},
   "outputs": [],
   "source": []
  }
 ],
 "metadata": {
  "colab": {
   "collapsed_sections": [],
   "name": "Шарифов_Лаб_7",
   "provenance": []
  },
  "kernelspec": {
   "display_name": "Python 3",
   "language": "python",
   "name": "python3"
  },
  "language_info": {
   "codemirror_mode": {
    "name": "ipython",
    "version": 3
   },
   "file_extension": ".py",
   "mimetype": "text/x-python",
   "name": "python",
   "nbconvert_exporter": "python",
   "pygments_lexer": "ipython3",
   "version": "3.8.5"
  }
 },
 "nbformat": 4,
 "nbformat_minor": 1
}
