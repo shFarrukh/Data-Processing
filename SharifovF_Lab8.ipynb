{
 "cells": [
  {
   "cell_type": "markdown",
   "metadata": {},
   "source": [
    "#### Шарифов Фаррух Рустамович \n",
    "#### Cтудент группы  N33472"
   ]
  },
  {
   "cell_type": "code",
   "execution_count": null,
   "metadata": {},
   "outputs": [],
   "source": [
    "import pandas as pd\n",
    "import numpy as np\n",
    "import random"
   ]
  },
  {
   "cell_type": "code",
   "execution_count": null,
   "metadata": {},
   "outputs": [],
   "source": [
    "exp = 10000\n",
    "prob = 0\n",
    "esp = 5e-4 # precision\n",
    "valid = 0\n",
    "for i in range(exp):\n",
    "    x=np.random.random()\n",
    "    y=np.random.random()\n",
    "    if max(x,y)< 1/4 :\n",
    "        valid += 1\n",
    "    prob_temp= float(valid/exp)\n",
    "    if np.abs(prob_temp - prob)< esp:\n",
    "        print(f\"prob is:{prob}\")\n",
    "        break\n",
    "    else:\n",
    "        prob=prob_temp\n",
    "        exp *=2\n",
    "print(\"end\")\n",
    "                "
   ]
  },
  {
   "cell_type": "code",
   "execution_count": null,
   "metadata": {},
   "outputs": [],
   "source": [
    "print(\"asdasdsadasdasdawsd\")"
   ]
  },
  {
   "cell_type": "code",
   "execution_count": null,
   "metadata": {},
   "outputs": [],
   "source": [
    "2+2\n"
   ]
  },
  {
   "cell_type": "code",
   "execution_count": null,
   "metadata": {},
   "outputs": [],
   "source": []
  }
 ],
 "metadata": {
  "kernelspec": {
   "display_name": "Python 3",
   "language": "python",
   "name": "python3"
  },
  "language_info": {
   "codemirror_mode": {
    "name": "ipython",
    "version": 3
   },
   "file_extension": ".py",
   "mimetype": "text/x-python",
   "name": "python",
   "nbconvert_exporter": "python",
   "pygments_lexer": "ipython3",
   "version": "3.8.5"
  }
 },
 "nbformat": 4,
 "nbformat_minor": 4
}
